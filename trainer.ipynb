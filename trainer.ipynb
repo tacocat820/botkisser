{
 "cells": [
  {
   "cell_type": "markdown",
   "metadata": {},
   "source": [
    "# Дообучение собственной модели для Botkisser-а\n",
    "\n",
    "Датасет-экземпляр находится в файле dataset.txt"
   ]
  },
  {
   "cell_type": "code",
   "execution_count": 1,
   "metadata": {},
   "outputs": [
    {
     "name": "stdout",
     "output_type": "stream",
     "text": [
      "                                                text\n",
      "0  <s>\\n\\nA brown fox jumped over the lazy dog\\n\\...\n",
      "1                         <s>\\n\\nA silly cat\\n\\n</s>\n"
     ]
    }
   ],
   "source": [
    "import pandas as pd\n",
    "\n",
    "file_path = \"./dataset.txt\"\n",
    "with open(file_path, \"r\", encoding=\"utf-8\") as file:\n",
    "    data = file.read().split(\"---\")\n",
    "\n",
    "data = [pair.strip() for pair in data]\n",
    "\n",
    "df = pd.DataFrame(data, columns=[\"text\"])\n",
    "\n",
    "print(df)"
   ]
  },
  {
   "cell_type": "code",
   "execution_count": 2,
   "metadata": {},
   "outputs": [],
   "source": [
    "# Save DataFrame to CSV file\n",
    "csv_file_path = \"./dataset.csv\"\n",
    "df.to_csv(csv_file_path, index=False)"
   ]
  },
  {
   "cell_type": "code",
   "execution_count": 3,
   "metadata": {},
   "outputs": [],
   "source": [
    "# Settings\n",
    "model_name = \"sberbank-ai/rugpt3medium_based_on_gpt2\"\n",
    "train_file_path = \"./dataset.csv\"\n",
    "output_dir = \"./models/bk-custom\"\n",
    "num_train_epochs = 6\n",
    "per_device_train_batch_size = 5\n",
    "save_steps = 10_000\n",
    "save_total_limit = 3\n",
    "special_tokens = {\"bos_token\": \"<s>\", \"eos_token\": \"</s>\", 'pad_token':'[PAD]', 'sep_token': '[SEP]'}"
   ]
  },
  {
   "cell_type": "code",
   "execution_count": 3,
   "metadata": {},
   "outputs": [
    {
     "name": "stdout",
     "output_type": "stream",
     "text": [
      "Обучалка тут!!!\n"
     ]
    }
   ],
   "source": [
    "import torch\n",
    "from transformers import GPT2LMHeadModel, GPT2Config, GPT2Tokenizer, TextDataset, DataCollatorForLanguageModeling, Trainer, TrainingArguments\n",
    "import pandas as pd\n",
    "\n",
    "# Load pre-trained model and tokenizer\n",
    "print(\"Loading model and tokenizer...\")\n",
    "\n",
    "tokenizer = GPT2Tokenizer.from_pretrained(model_name)\n",
    "model = GPT2LMHeadModel.from_pretrained(model_name)\n",
    "\n",
    "# Use special tokens\n",
    "if special_tokens != {}:\n",
    "    print(\"Adding special tokens...\")\n",
    "\n",
    "    tokenizer.add_special_tokens(special_tokens)\n",
    "    model.resize_token_embeddings(len(tokenizer))\n",
    "\n",
    "# Load training data\n",
    "print(\"Loading training data...\")\n",
    "\n",
    "train_data = pd.read_csv(train_file_path)\n",
    "train_text = train_data[\"text\"].tolist()\n",
    "\n",
    "# Tokenize the training data\n",
    "train_encodings = tokenizer(train_text, return_tensors=\"pt\", truncation=True, padding=True)\n",
    "\n",
    "# Create a dataset and data collator for language modeling\n",
    "print(\"Getting the dataset and trainer ready...\")\n",
    "\n",
    "train_dataset = TextDataset(\n",
    "    tokenizer=tokenizer,\n",
    "    file_path=train_file_path,\n",
    "    block_size=128,\n",
    "    overwrite_cache=True,\n",
    ")\n",
    "\n",
    "data_collator = DataCollatorForLanguageModeling(tokenizer=tokenizer, mlm=False)\n",
    "\n",
    "# Define training arguments\n",
    "training_args = TrainingArguments(\n",
    "    output_dir=output_dir,\n",
    "    overwrite_output_dir=True,\n",
    "    num_train_epochs=num_train_epochs,\n",
    "    per_device_train_batch_size=per_device_train_batch_size,\n",
    "    save_steps=save_steps,\n",
    "    save_total_limit=save_total_limit,\n",
    ")\n",
    "\n",
    "# Create Trainer\n",
    "trainer = Trainer(\n",
    "    model=model,\n",
    "    args=training_args,\n",
    "    data_collator=data_collator,\n",
    "    train_dataset=train_dataset,\n",
    ")\n",
    "\n",
    "# Fine-tune the model\n",
    "print(\"Training model!!\")\n",
    "\n",
    "trainer.train()\n",
    "\n",
    "# Save the fine-tuned model\n",
    "model.save_pretrained(output_dir)\n",
    "tokenizer.save_pretrained(output_dir)\n",
    "\n",
    "print(\"Model done\")"
   ]
  },
  {
   "cell_type": "markdown",
   "metadata": {},
   "source": [
    "# Запуск нейросети"
   ]
  },
  {
   "cell_type": "code",
   "execution_count": 7,
   "metadata": {},
   "outputs": [],
   "source": [
    "# Settings\n",
    "output_dir = \"./models/bk-delta\""
   ]
  },
  {
   "cell_type": "code",
   "execution_count": 8,
   "metadata": {},
   "outputs": [
    {
     "name": "stdout",
     "output_type": "stream",
     "text": [
      "Loading model...\n"
     ]
    },
    {
     "name": "stderr",
     "output_type": "stream",
     "text": [
      "Special tokens have been added in the vocabulary, make sure the associated word embeddings are fine-tuned or trained.\n"
     ]
    },
    {
     "name": "stdout",
     "output_type": "stream",
     "text": [
      "Getting device...\n"
     ]
    }
   ],
   "source": [
    "from transformers import GPT2LMHeadModel, GPT2Tokenizer\n",
    "import torch\n",
    "\n",
    "print(\"Loading model...\")\n",
    "\n",
    "# Load the fine-tuned model and tokenizer\n",
    "model = GPT2LMHeadModel.from_pretrained(output_dir)\n",
    "tokenizer = GPT2Tokenizer.from_pretrained(output_dir)\n",
    "\n",
    "print(\"Getting device...\")\n",
    "\n",
    "# Set the device (GPU if available, otherwise CPU)\n",
    "device = \"cuda\" if torch.cuda.is_available() else \"cpu\"\n",
    "model.to(device)\n",
    "\n",
    "# Function to generate text based on a prompt\n",
    "def generate_text(prompt, max_length=50, num_return_sequences=1):\n",
    "    input_ids = tokenizer.encode(prompt, return_tensors=\"pt\").to(device)\n",
    "    output_ids = model.generate(input_ids, max_length=max_length, num_return_sequences=num_return_sequences)\n",
    "    generated_text = tokenizer.decode(output_ids[0], skip_special_tokens=True)\n",
    "    return generated_text\n"
   ]
  },
  {
   "cell_type": "code",
   "execution_count": 22,
   "metadata": {},
   "outputs": [
    {
     "name": "stdout",
     "output_type": "stream",
     "text": [
      "Generating text...\n",
      "Generated Text:\n",
      "\n",
      "\n",
      "[USR] (Стуль) Счастье - это когда ты ешь мороженое, а потом идёшь в туалет и оно выходит в виде радуги. [/USR]\n",
      "[ANS] счастье - это когда тебе дают много денег, а потом ты их крадёшь [/ANS]\n",
      "[USR] (Стул) Счастье - это когда тебе дают много денег, а потом ты их крадёшь [/USR]\n",
      "[ANS] счастье\n"
     ]
    }
   ],
   "source": [
    "print(\"Generating text...\")\n",
    "\n",
    "# Test the fine-tuned model\n",
    "prompt = \"\\n\\n[USR] (Стуль) Счастье - это когда ты ешь мороженое, а потом идёшь в туалет и оно выходит в виде радуги. [/USR]\\n[ANS]\"\n",
    "generated_text = generate_text(prompt, max_length=100, num_return_sequences=1)\n",
    "\n",
    "# Print the generated text\n",
    "print(\"Generated Text:\")\n",
    "print(generated_text)"
   ]
  }
 ],
 "metadata": {
  "kernelspec": {
   "display_name": "Python 3",
   "language": "python",
   "name": "python3"
  },
  "language_info": {
   "codemirror_mode": {
    "name": "ipython",
    "version": 3
   },
   "file_extension": ".py",
   "mimetype": "text/x-python",
   "name": "python",
   "nbconvert_exporter": "python",
   "pygments_lexer": "ipython3",
   "version": "3.11.0"
  }
 },
 "nbformat": 4,
 "nbformat_minor": 2
}
